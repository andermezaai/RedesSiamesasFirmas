{
 "cells": [
  {
   "cell_type": "code",
   "execution_count": 1,
   "metadata": {},
   "outputs": [],
   "source": [
    "import tensorflow as tf\n",
    "from tensorflow.keras.layers import Input, Conv2D, MaxPooling2D, Flatten, Dense, Lambda,BatchNormalization, Dropout, Concatenate\n",
    "from tensorflow.keras.models import Model\n",
    "from tensorflow.keras.preprocessing.image import ImageDataGenerator\n",
    "from tensorflow.keras import regularizers"
   ]
  },
  {
   "cell_type": "code",
   "execution_count": 52,
   "metadata": {},
   "outputs": [
    {
     "name": "stdout",
     "output_type": "stream",
     "text": [
      "Model: \"model_43\"\n",
      "_________________________________________________________________\n",
      " Layer (type)                Output Shape              Param #   \n",
      "=================================================================\n",
      " input_49 (InputLayer)       [(None, 150, 220, 1)]     0         \n",
      "                                                                 \n",
      " conv2d_173 (Conv2D)         (None, 37, 53, 96)        7008      \n",
      "                                                                 \n",
      " max_pooling2d_144 (MaxPooli  (None, 18, 26, 96)       0         \n",
      " ng2D)                                                           \n",
      "                                                                 \n",
      " conv2d_174 (Conv2D)         (None, 18, 26, 256)       614656    \n",
      "                                                                 \n",
      " max_pooling2d_145 (MaxPooli  (None, 8, 12, 256)       0         \n",
      " ng2D)                                                           \n",
      "                                                                 \n",
      " conv2d_175 (Conv2D)         (None, 8, 12, 384)        1573248   \n",
      "                                                                 \n",
      " conv2d_176 (Conv2D)         (None, 8, 12, 384)        2359680   \n",
      "                                                                 \n",
      " conv2d_177 (Conv2D)         (None, 8, 12, 384)        2359680   \n",
      "                                                                 \n",
      " conv2d_178 (Conv2D)         (None, 8, 12, 256)        1573120   \n",
      "                                                                 \n",
      " max_pooling2d_146 (MaxPooli  (None, 3, 5, 256)        0         \n",
      " ng2D)                                                           \n",
      "                                                                 \n",
      " dense_89 (Dense)            (None, 3, 5, 2048)        526336    \n",
      "                                                                 \n",
      " dense_90 (Dense)            (None, 3, 5, 2048)        4196352   \n",
      "                                                                 \n",
      "=================================================================\n",
      "Total params: 13,210,080\n",
      "Trainable params: 13,210,080\n",
      "Non-trainable params: 0\n",
      "_________________________________________________________________\n"
     ]
    }
   ],
   "source": [
    "input_shape=(150,220,1)\n",
    "input = Input(shape=input_shape)\n",
    "x = Conv2D(96, (6, 12),strides=(4, 4), padding='valid', activation='relu')(input)\n",
    "x = MaxPooling2D(strides=(2, 2))(x)\n",
    "#x = BatchNormalization()(x)\n",
    "x = Conv2D(256, (5, 5),strides=(1, 1), padding='same', activation='relu')(x)\n",
    "x = MaxPooling2D( (4,4) ,strides=(2, 2), padding='valid')(x)\n",
    "#x = BatchNormalization()(x)\n",
    "x = Conv2D(384, (4, 4),strides=(1, 1), padding='same', activation='relu')(x)\n",
    "x = Conv2D(384, (4, 4),strides=(1, 1), padding='same', activation='relu')(x)\n",
    "x = Conv2D(384, (4, 4),strides=(1, 1), padding='same', activation='relu')(x)\n",
    "x = Conv2D(256, (4, 4),strides=(1, 1), padding='same', activation='relu')(x)\n",
    "x = MaxPooling2D( (3,3) ,strides=(2, 2), padding='valid')(x)\n",
    "#x = Flatten()(x)\n",
    "#x = BatchNormalization()(x)\n",
    "x = Dense(2048, activation='relu')(x)\n",
    "#x = Dropout(0.4)(x)\n",
    "#x = BatchNormalization()(x)\n",
    "x = Dense(2048, activation='relu')(x)\n",
    "#x = Dropout(0.4)(x) #0.4\n",
    "#x = BatchNormalization()(x)\n",
    "model = Model(inputs=input, outputs=x)\n",
    "model.summary()"
   ]
  }
 ],
 "metadata": {
  "kernelspec": {
   "display_name": "env",
   "language": "python",
   "name": "python3"
  },
  "language_info": {
   "codemirror_mode": {
    "name": "ipython",
    "version": 3
   },
   "file_extension": ".py",
   "mimetype": "text/x-python",
   "name": "python",
   "nbconvert_exporter": "python",
   "pygments_lexer": "ipython3",
   "version": "3.10.4"
  }
 },
 "nbformat": 4,
 "nbformat_minor": 2
}
