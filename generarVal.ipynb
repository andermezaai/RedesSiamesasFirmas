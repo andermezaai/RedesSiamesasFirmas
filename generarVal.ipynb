{
 "cells": [
  {
   "cell_type": "code",
   "execution_count": 1,
   "metadata": {},
   "outputs": [
    {
     "name": "stdout",
     "output_type": "stream",
     "text": [
      "Archivos movidos exitosamente.\n"
     ]
    }
   ],
   "source": [
    "import os\n",
    "import random\n",
    "import shutil\n",
    "from math import ceil\n",
    "\n",
    "# Directorios principales\n",
    "train_dir = 'train'  # Carpeta principal de entrenamiento\n",
    "val_dir = 'val'      # Carpeta principal de validación\n",
    "\n",
    "# Crear la carpeta val si no existe\n",
    "if not os.path.exists(val_dir):\n",
    "    os.makedirs(val_dir)\n",
    "\n",
    "# Recorrer todas las subcarpetas dentro de train\n",
    "for subfolder in os.listdir(train_dir):\n",
    "    train_subfolder_path = os.path.join(train_dir, subfolder)\n",
    "\n",
    "    # Verificar que sea una carpeta\n",
    "    if os.path.isdir(train_subfolder_path):\n",
    "        # Crear la misma subcarpeta en val si no existe\n",
    "        val_subfolder_path = os.path.join(val_dir, subfolder)\n",
    "        if not os.path.exists(val_subfolder_path):\n",
    "            os.makedirs(val_subfolder_path)\n",
    "\n",
    "        # Obtener la lista de archivos en la subcarpeta\n",
    "        files = os.listdir(train_subfolder_path)\n",
    "        num_files_to_move = ceil(0.30 * len(files))  # Calcular el 30%\n",
    "\n",
    "        # Seleccionar aleatoriamente el 30% de los archivos\n",
    "        files_to_move = random.sample(files, num_files_to_move)\n",
    "\n",
    "        # Mover los archivos seleccionados a la subcarpeta de val\n",
    "        for file_name in files_to_move:\n",
    "            src_file = os.path.join(train_subfolder_path, file_name)\n",
    "            dst_file = os.path.join(val_subfolder_path, file_name)\n",
    "            shutil.move(src_file, dst_file)\n",
    "\n",
    "print(\"Archivos movidos exitosamente.\")"
   ]
  }
 ],
 "metadata": {
  "kernelspec": {
   "display_name": "env",
   "language": "python",
   "name": "python3"
  },
  "language_info": {
   "codemirror_mode": {
    "name": "ipython",
    "version": 3
   },
   "file_extension": ".py",
   "mimetype": "text/x-python",
   "name": "python",
   "nbconvert_exporter": "python",
   "pygments_lexer": "ipython3",
   "version": "3.10.4"
  }
 },
 "nbformat": 4,
 "nbformat_minor": 2
}
