{
 "cells": [
  {
   "cell_type": "code",
   "execution_count": null,
   "metadata": {},
   "outputs": [],
   "source": [
    "import tensorflow as tf\n",
    "from tensorflow.keras.layers import Input, Conv2D, MaxPooling2D, Flatten, Dense, Lambda,BatchNormalization, Dropout\n",
    "from tensorflow.keras.models import Model\n",
    "import numpy as np\n",
    "import random\n",
    "import numpy as np\n",
    "import cv2\n",
    "import os"
   ]
  },
  {
   "cell_type": "code",
   "execution_count": null,
   "metadata": {},
   "outputs": [],
   "source": [
    "def processImage(input_path, target_size=(150, 220)):    \n",
    "    # Cargar la imagen\n",
    "    img = cv2.imread(input_path)\n",
    "    \n",
    "    # Calcular la relación de aspecto\n",
    "    aspect_ratio = img.shape[1] / img.shape[0]\n",
    "    aspect_ratio_target = target_size[1] / target_size[0]\n",
    "    \n",
    "    # Determinar el nuevo tamaño manteniendo la relación de aspecto\n",
    "    if aspect_ratio_target > aspect_ratio:\n",
    "        new_height = img.shape[0]\n",
    "        new_width = int(aspect_ratio_target * img.shape[0])\n",
    "    else:\n",
    "        new_height = int(img.shape[1] / aspect_ratio_target)\n",
    "        new_width = img.shape[1]\n",
    "    \n",
    "    # Crear una nueva imagen con fondo blanco\n",
    "    new_img = np.ones((new_height, new_width, 3), dtype=np.uint8) * 255\n",
    "    \n",
    "    # Calcular las coordenadas para centrar la imagen redimensionada\n",
    "    top_left_x = (new_width - img.shape[1]) // 2\n",
    "    top_left_y = (new_height - img.shape[0]) // 2\n",
    "    \n",
    "    # Pegar la imagen redimensionada en la nueva imagen con fondo blanco\n",
    "    new_img[top_left_y:top_left_y + img.shape[0], top_left_x:top_left_x + img.shape[1]] = img\n",
    "    \n",
    "    # Redimensionar la imagen al tamaño objetivo\n",
    "    new_img = cv2.resize(new_img, (target_size[1],target_size[0]))\n",
    "    # Convertir la imagen a escala de grises\n",
    "    imagen_gris = cv2.cvtColor(new_img, cv2.COLOR_BGR2GRAY)\n",
    "    # Aplicar el algoritmo de Otsu para obtener el umbral óptimo\n",
    "    _, umbral = cv2.threshold(imagen_gris, 0, 255, cv2.THRESH_BINARY + cv2.THRESH_OTSU)\n",
    "    # Invertir la imagen\n",
    "    imagen_invertida = 255 - umbral\n",
    "    return imagen_invertida"
   ]
  }
 ],
 "metadata": {
  "language_info": {
   "name": "python"
  }
 },
 "nbformat": 4,
 "nbformat_minor": 2
}
